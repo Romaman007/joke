{
 "cells": [
  {
   "cell_type": "code",
   "execution_count": 79,
   "metadata": {
    "collapsed": true
   },
   "outputs": [],
   "source": [
    "import torch\n",
    "import torchvision\n",
    "from torch import nn"
   ]
  },
  {
   "cell_type": "code",
   "execution_count": 79,
   "metadata": {},
   "outputs": [],
   "source": []
  },
  {
   "cell_type": "code",
   "execution_count": 80,
   "metadata": {
    "pycharm": {
     "name": "#%%\n"
    }
   },
   "outputs": [],
   "source": [
    "class Generator(nn.Module):\n",
    "    def __init__(self,in_dim,n_channel,n_dim):\n",
    "        super(Generator,self).__init__()\n",
    "        self.blocks = nn.ModuleList()\n",
    "        self.blocks.append(self.block(100,n_dim*8,4,1,0))\n",
    "        for x in range(3):\n",
    "            self.blocks.append(self.block(n_dim*8//(2**(x)),n_dim*8//(2**(x+1)),4,2,1))\n",
    "        self.end = nn.Sequential(\n",
    "            nn.ConvTranspose2d(n_dim,n_channel,4,2,1),\n",
    "            nn.Tanh()\n",
    "        )\n",
    "\n",
    "    def block(self,in_chan,out_chan,kernel, stride, padding):\n",
    "        return nn.Sequential(\n",
    "            nn.ConvTranspose2d(in_chan,out_chan,kernel,stride,padding),\n",
    "            nn.BatchNorm2d(out_chan),\n",
    "            nn.ReLU()\n",
    "        )\n",
    "\n",
    "    def forward(self,x):\n",
    "        for layer in self.blocks:\n",
    "            x= layer(x)\n",
    "        return self.end(x)\n",
    "\n",
    "    # def block2(self,in_chan,out_chan,kernel, stride, padding=1):\n",
    "    #     return nn.Sequential(\n",
    "    #         nn.ConvTranspose2d(in_chan,in_chan,kernel,stride,padding),\n",
    "    #         nn.ConvTranspose2d(in_chan,out_chan,kernel,stride,padding),\n",
    "    #         nn.BatchNorm2d(out_chan),\n",
    "    #         nn.ReLU()\n",
    "    #     )"
   ]
  },
  {
   "cell_type": "code",
   "execution_count": 81,
   "metadata": {
    "pycharm": {
     "name": "#%%\n"
    }
   },
   "outputs": [],
   "source": [
    "class Discriminator(nn.Module):\n",
    "    def __init__(self,n_channel,n_dim):\n",
    "        super(Discriminator,self).__init__()\n",
    "        self.blocks = nn.ModuleList()\n",
    "        self.blocks.append(nn.Sequential(nn.Conv2d(n_channel,n_dim,4,2,1),\n",
    "                                         nn.LeakyReLU(0.2)),)\n",
    "        for x in range(3):\n",
    "            self.blocks.append(self.block(n_dim*(2**(x)),n_dim*(2**(x+1)),4,2,1))\n",
    "        self.end=nn.Sequential(nn.Conv2d(n_dim*8,1,4,1,0),\n",
    "                               nn.Sigmoid())\n",
    "\n",
    "\n",
    "    def block(self,in_chan,out_chan,kernel, stride, padding):\n",
    "        return nn.Sequential(\n",
    "            nn.Conv2d(in_chan,out_chan,kernel,stride,padding),\n",
    "            nn.BatchNorm2d(out_chan),\n",
    "            nn.LeakyReLU(0.2)\n",
    "        )\n",
    "    def forward(self,x):\n",
    "        for layer in self.blocks:\n",
    "            x= layer(x)\n",
    "        return self.end(x)"
   ]
  },
  {
   "cell_type": "code",
   "execution_count": 82,
   "metadata": {
    "pycharm": {
     "name": "#%%\n"
    }
   },
   "outputs": [],
   "source": [
    "def initialize_weights(model):\n",
    "    for m in model.modules():\n",
    "        if isinstance(m, (nn.Conv2d, nn.ConvTranspose2d, nn.BatchNorm2d)):\n",
    "            nn.init.normal_(m.weight.data, 0.0, 0.02)"
   ]
  },
  {
   "cell_type": "code",
   "execution_count": 83,
   "metadata": {
    "pycharm": {
     "name": "#%%\n"
    }
   },
   "outputs": [
    {
     "name": "stdout",
     "output_type": "stream",
     "text": [
      "torch.Size([2, 3, 64, 64])\n"
     ]
    }
   ],
   "source": [
    "gen = Generator(100,3,128)\n",
    "noise = torch.randn((2,100,1,1))\n",
    "print(gen(noise).shape)"
   ]
  },
  {
   "cell_type": "code",
   "execution_count": 84,
   "metadata": {
    "pycharm": {
     "name": "#%%\n"
    }
   },
   "outputs": [
    {
     "name": "stdout",
     "output_type": "stream",
     "text": [
      "torch.Size([2, 1, 1, 1])\n"
     ]
    }
   ],
   "source": [
    "disc = Discriminator(3,128)\n",
    "print(disc(gen(noise)).shape)"
   ]
  },
  {
   "cell_type": "code",
   "execution_count": 85,
   "metadata": {
    "pycharm": {
     "name": "#%%\n"
    }
   },
   "outputs": [],
   "source": [
    "import torch\n",
    "import torch.nn as nn\n",
    "from tqdm import tqdm\n",
    "import torch.optim as optim\n",
    "import torchvision\n",
    "import torchvision.datasets as datasets\n",
    "import torchvision.transforms as transforms\n",
    "from torch.utils.data import DataLoader\n",
    "from torch.utils.tensorboard import SummaryWriter"
   ]
  },
  {
   "cell_type": "code",
   "execution_count": 86,
   "metadata": {
    "pycharm": {
     "name": "#%%\n"
    }
   },
   "outputs": [
    {
     "name": "stdout",
     "output_type": "stream",
     "text": [
      "cuda\n"
     ]
    }
   ],
   "source": [
    "device = torch.device(\"cuda\" if torch.cuda.is_available() else \"cpu\")\n",
    "LEARNING_RATE = 2e-4\n",
    "BATCH_SIZE = 128\n",
    "IMAGE_SIZE = 64\n",
    "CHANNELS_IMG = 3\n",
    "NOISE_DIM = 100\n",
    "NUM_EPOCHS = 15\n",
    "FEATURES_NUM = 128\n",
    "print(device)"
   ]
  },
  {
   "cell_type": "code",
   "execution_count": 87,
   "metadata": {
    "pycharm": {
     "name": "#%%\n"
    }
   },
   "outputs": [],
   "source": [
    "dataset = datasets.ImageFolder(root='dataset/celeba',\n",
    "                           transform=transforms.Compose([\n",
    "                               transforms.Resize(IMAGE_SIZE),\n",
    "                               transforms.CenterCrop(IMAGE_SIZE),\n",
    "                               transforms.ToTensor(),\n",
    "                               transforms.Normalize((0.5, 0.5, 0.5), (0.5, 0.5, 0.5)),\n",
    "                           ]))\n"
   ]
  },
  {
   "cell_type": "code",
   "execution_count": 88,
   "metadata": {
    "pycharm": {
     "name": "#%%\n"
    }
   },
   "outputs": [],
   "source": [
    "writer_real = SummaryWriter(f\"logs/real\")\n",
    "writer_fake = SummaryWriter(f\"logs/fake\")"
   ]
  },
  {
   "cell_type": "code",
   "execution_count": 89,
   "metadata": {
    "pycharm": {
     "name": "#%%\n"
    }
   },
   "outputs": [],
   "source": [
    "def train(loader,generator,discriminator,opt_gen,opt_disc,loss_gen,loss_disc):\n",
    "    loop= tqdm(loader,leave=False)\n",
    "    for batch_idx,(real,_) in enumerate(loop):\n",
    "        real=real.to(device)\n",
    "        noise = torch.randn((BATCH_SIZE,NOISE_DIM,1,1)).to(device)\n",
    "        fake = generator(noise)\n",
    "\n",
    "        #Discriminator loss\n",
    "        disc_real = discriminator(real).reshape(-1)\n",
    "        disc_loss_true = loss_disc(disc_real,torch.ones_like(disc_real))\n",
    "        disc_fake = discriminator(fake.detach()).reshape(-1)\n",
    "        disc_loss_false = loss_disc(disc_fake,torch.zeros_like(disc_fake))\n",
    "        disc_loss = (disc_loss_false+disc_loss_true)/2\n",
    "        discriminator.zero_grad()\n",
    "        disc_loss.backward()\n",
    "        opt_disc.step()\n",
    "\n",
    "        #Generator loss\n",
    "        gen_res = discriminator(fake).reshape(-1)\n",
    "        gen_loss = loss_gen(gen_res,torch.ones_like(gen_res))\n",
    "        generator.zero_grad()\n",
    "        gen_loss.backward()\n",
    "        opt_gen.step()\n",
    "\n",
    "        #Check\n",
    "        if batch_idx % 10 == 0:\n",
    "            with torch.no_grad():\n",
    "                fake = gen(fixed_noise)\n",
    "                img_grid_real = torchvision.utils.make_grid(real[:32], normalize=True)\n",
    "                img_grid_fake = torchvision.utils.make_grid(fake[:32], normalize=True)\n",
    "                writer_real.add_image(\"Real\", img_grid_real, global_step=batch_idx)\n",
    "                writer_fake.add_image(\"Fake\", img_grid_fake, global_step=batch_idx)\n"
   ]
  },
  {
   "cell_type": "code",
   "execution_count": 90,
   "metadata": {
    "pycharm": {
     "name": "#%%\n"
    }
   },
   "outputs": [],
   "source": [
    "dataloader = DataLoader(dataset, batch_size=BATCH_SIZE, shuffle=True)\n",
    "gen = Generator(NOISE_DIM, CHANNELS_IMG, FEATURES_NUM).to(device)\n",
    "disc = Discriminator(CHANNELS_IMG, FEATURES_NUM).to(device)\n",
    "initialize_weights(gen)\n",
    "initialize_weights(disc)\n",
    "\n",
    "opt_gen = optim.Adam(gen.parameters(), lr=LEARNING_RATE, betas=(0.5, 0.999))\n",
    "opt_disc = optim.Adam(disc.parameters(), lr=LEARNING_RATE, betas=(0.5, 0.999))\n",
    "loss_disc = nn.BCELoss()\n",
    "loss_gen = nn.MSELoss()\n",
    "\n",
    "fixed_noise = torch.randn(32, NOISE_DIM, 1, 1).to(device)"
   ]
  },
  {
   "cell_type": "code",
   "execution_count": null,
   "outputs": [
    {
     "name": "stderr",
     "output_type": "stream",
     "text": [
      "  4%|▍         | 71/1583 [00:22<10:31,  2.39it/s]"
     ]
    }
   ],
   "source": [
    "for epoch in range(NUM_EPOCHS):\n",
    "    train(dataloader,gen,disc,opt_gen,opt_disc,loss_gen,loss_disc)"
   ],
   "metadata": {
    "collapsed": false,
    "pycharm": {
     "name": "#%%\n",
     "is_executing": true
    }
   }
  },
  {
   "cell_type": "code",
   "execution_count": null,
   "metadata": {
    "pycharm": {
     "name": "#%%\n",
     "is_executing": true
    }
   },
   "outputs": [],
   "source": [
    "%tensorboard --logdir logs"
   ]
  }
 ],
 "metadata": {
  "kernelspec": {
   "display_name": "Python 3 (ipykernel)",
   "language": "python",
   "name": "python3"
  },
  "language_info": {
   "codemirror_mode": {
    "name": "ipython",
    "version": 3
   },
   "file_extension": ".py",
   "mimetype": "text/x-python",
   "name": "python",
   "nbconvert_exporter": "python",
   "pygments_lexer": "ipython3",
   "version": "3.10.0"
  }
 },
 "nbformat": 4,
 "nbformat_minor": 1
}